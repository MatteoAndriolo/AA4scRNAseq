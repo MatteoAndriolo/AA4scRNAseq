{
 "cells": [
  {
   "cell_type": "code",
   "execution_count": null,
   "metadata": {},
   "outputs": [],
   "source": [
    "# Import necessary libraries\n",
    "import os\n",
    "import scanpy as sc\n",
    "import matplotlib.pyplot as plt\n",
    "import pandas as pd\n",
    "from scipy.io import mmread\n",
    "\n",
    "# Setup all paths\n",
    "out_path = \"../out/AllonKleinLab/Experiment1\"\n",
    "if not os.path.exists(out_path):\n",
    "    os.makedirs(out_path)\n",
    "\n",
    "# Setup testing phase\n",
    "TEST = False\n",
    "TEST_genes = 300\n",
    "TEST_samples = 500\n",
    "\n",
    "# Archetypes\n",
    "k = 15"
   ]
  },
  {
   "cell_type": "markdown",
   "metadata": {},
   "source": [
    "# Load Dataset"
   ]
  },
  {
   "cell_type": "code",
   "execution_count": null,
   "metadata": {},
   "outputs": [],
   "source": [
    "# Binary matrix indicating clonal membership of each cell\n",
    "# The rows of this file represent cells and correspond to the rows of _counts_matrix_in_vitro_ (above).\n",
    "# The columns represent clones. Not every cell belongs to a clone. \n",
    "# clone_matrix = mmread(\"data/AllonKleinLab/Experiment1/stateFate_inVitro_clone_matrix.mtx\")\n",
    "# cell metadata : cell type annotation\n",
    "# cell_metadata = pd.read_csv(\"data/AllonKleinLab/Experiment1/stateFate_inVitro_metadata.txt\", sep=\"\\t\")\n",
    "# gene names\n",
    "# gene_names = pd.read_csv(\"data/AllonKleinLab/Experiment1/stateFate_inVitro_gene_names.txt\", header=None)\n",
    "# List of cells belonging to the neutrophil/monocyte trajectory that were used in benchmark analysis\n",
    "# neutrophil_monocyte_trajectory = pd.read_csv(\"data/AllonKleinLab/Experiment1/stateFate_inVitro_neutrophil_monocyte_trajectory.txt\", sep=\"\\t\")\n",
    "# pseudotime for neutrophil trajectory cells\n",
    "# neutrophil_pseudotime = pd.read_csv(\"data/AllonKleinLab/Experiment1/stateFate_inVitro_neutrophil_pseudotime.txt\", sep=\"\\t\")\n",
    "\n",
    "# Number of transcripts for each gene in each cell\n",
    "se = mmread(\"../data/AllonKleinLab/Experiment1/stateFate_inVitro_normed_counts.mtx\").T\n",
    "\n",
    "if TEST:\n",
    "    tgenes = min(TEST_genes, se.shape[0])\n",
    "    tsamples = min(TEST_samples, se.shape[1])\n",
    "    se = se[:tgenes, :tsamples]\n",
    "\n",
    "# Convert the matrix to AnnData object\n",
    "adata = sc.AnnData(se)\n",
    "\n",
    "# Standard workflow for pre-processing and clustering\n",
    "sc.pp.normalize_total(adata, target_sum=1e4)\n",
    "sc.pp.log1p(adata)\n",
    "sc.pp.highly_variable_genes(adata, min_mean=0.0125, max_mean=3, min_disp=0.5)\n",
    "adata = adata[:, adata.var.highly_variable]\n",
    "sc.pp.scale(adata, max_value=10)\n",
    "sc.tl.pca(adata, svd_solver='arpack')\n",
    "sc.pp.neighbors(adata, n_neighbors=10, n_pcs=40)\n",
    "sc.tl.umap(adata)\n"
   ]
  },
  {
   "cell_type": "markdown",
   "metadata": {},
   "source": [
    "# Visualize data"
   ]
  },
  {
   "cell_type": "code",
   "execution_count": null,
   "metadata": {},
   "outputs": [],
   "source": [
    "# PCA plot\n",
    "imgname = os.path.join(out_path, \"PCA.png\")\n",
    "print(f\"Saving Image --- {imgname}\")\n",
    "sc.pl.pca(adata, save=imgname.split('/')[-1])"
   ]
  },
  {
   "cell_type": "code",
   "execution_count": null,
   "metadata": {},
   "outputs": [],
   "source": [
    "# UMAP plot\n",
    "imgname = os.path.join(out_path, \"UMAP.png\")\n",
    "print(f\"Saving Image --- {imgname}\")\n",
    "sc.pl.umap(adata, save=imgname.split('/')[-1])"
   ]
  },
  {
   "cell_type": "code",
   "execution_count": null,
   "metadata": {},
   "outputs": [],
   "source": [
    "# Elbow plot\n",
    "imgname = os.path.join(out_path, \"elbow.pdf\")\n",
    "print(f\"Saving Image --- {imgname}\")\n",
    "sc.pl.pca_variance_ratio(adata, log=True, save=imgname.split('/')[-1])"
   ]
  }
 ],
 "metadata": {
  "language_info": {
   "name": "python"
  }
 },
 "nbformat": 4,
 "nbformat_minor": 2
}
