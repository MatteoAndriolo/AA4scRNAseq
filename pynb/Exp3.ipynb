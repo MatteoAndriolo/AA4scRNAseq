{
 "cells": [
  {
   "cell_type": "code",
   "execution_count": 5,
   "metadata": {},
   "outputs": [],
   "source": [
    "import os\n",
    "import scanpy as sc\n",
    "import matplotlib.pyplot as plt\n",
    "import pandas as pd\n",
    "from scipy.io import mmread\n",
    "from scipy.sparse import csr_matrix\n",
    "import json\n",
    "\n",
    "outputfolder = \"../out/AllonKleinLab/Experiment3\"\n",
    "inputfile = \"../data/AllonKleinLab/Experiment3/stateFate_cytokinePerturbation_normed_counts.mtx\"\n",
    "\n",
    "HVF = True\n",
    "TEST = False \n",
    "TEST_genes = 800\n",
    "TEST_samples = 10000\n",
    "\n",
    "k = 15"
   ]
  },
  {
   "cell_type": "markdown",
   "metadata": {},
   "source": [
    " # Load Dataset"
   ]
  },
  {
   "cell_type": "code",
   "execution_count": 6,
   "metadata": {},
   "outputs": [
    {
     "name": "stdout",
     "output_type": "stream",
     "text": [
      "View of AnnData object with n_obs × n_vars = 0 × 0\n",
      "    var: 'mean', 'std', 'highly_variable', 'means', 'dispersions', 'dispersions_norm'\n",
      "    uns: 'hvg'\n"
     ]
    },
    {
     "ename": "ValueError",
     "evalue": "Found array with 0 sample(s) (shape=(0, 0)) while a minimum of 1 is required.",
     "output_type": "error",
     "traceback": [
      "\u001b[0;31m---------------------------------------------------------------------------\u001b[0m",
      "\u001b[0;31mValueError\u001b[0m                                Traceback (most recent call last)",
      "Cell \u001b[0;32mIn[6], line 20\u001b[0m\n\u001b[1;32m     18\u001b[0m     adata \u001b[38;5;241m=\u001b[39m adata[adata\u001b[38;5;241m.\u001b[39mX\u001b[38;5;241m.\u001b[39mgetnnz(\u001b[38;5;241m1\u001b[39m)\u001b[38;5;241m>\u001b[39m\u001b[38;5;241m0\u001b[39m][:, adata\u001b[38;5;241m.\u001b[39mX\u001b[38;5;241m.\u001b[39mgetnnz(\u001b[38;5;241m0\u001b[39m)\u001b[38;5;241m>\u001b[39m\u001b[38;5;241m0\u001b[39m]\n\u001b[1;32m     19\u001b[0m \u001b[38;5;28mprint\u001b[39m(adata)\n\u001b[0;32m---> 20\u001b[0m sc\u001b[38;5;241m.\u001b[39mpp\u001b[38;5;241m.\u001b[39mpca(adata)\n\u001b[1;32m     21\u001b[0m sc\u001b[38;5;241m.\u001b[39mpp\u001b[38;5;241m.\u001b[39mneighbors(adata)\n\u001b[1;32m     22\u001b[0m sc\u001b[38;5;241m.\u001b[39mtl\u001b[38;5;241m.\u001b[39mumap(adata)\n",
      "File \u001b[0;32m~/.conda/envs/pyaa/lib/python3.12/site-packages/scanpy/preprocessing/_pca.py:276\u001b[0m, in \u001b[0;36mpca\u001b[0;34m(***failed resolving arguments***)\u001b[0m\n\u001b[1;32m    272\u001b[0m \u001b[38;5;28;01mfrom\u001b[39;00m \u001b[38;5;21;01msklearn\u001b[39;00m\u001b[38;5;21;01m.\u001b[39;00m\u001b[38;5;21;01mdecomposition\u001b[39;00m \u001b[38;5;28;01mimport\u001b[39;00m PCA\n\u001b[1;32m    274\u001b[0m svd_solver \u001b[38;5;241m=\u001b[39m _handle_sklearn_args(svd_solver, \u001b[38;5;124m\"\u001b[39m\u001b[38;5;124mPCA (with sparse input)\u001b[39m\u001b[38;5;124m\"\u001b[39m)\n\u001b[0;32m--> 276\u001b[0m output \u001b[38;5;241m=\u001b[39m _pca_with_sparse(\n\u001b[1;32m    277\u001b[0m     X, n_comps, solver\u001b[38;5;241m=\u001b[39msvd_solver, random_state\u001b[38;5;241m=\u001b[39mrandom_state\n\u001b[1;32m    278\u001b[0m )\n\u001b[1;32m    279\u001b[0m \u001b[38;5;66;03m# this is just a wrapper for the results\u001b[39;00m\n\u001b[1;32m    280\u001b[0m X_pca \u001b[38;5;241m=\u001b[39m output[\u001b[38;5;124m\"\u001b[39m\u001b[38;5;124mX_pca\u001b[39m\u001b[38;5;124m\"\u001b[39m]\n",
      "File \u001b[0;32m~/.conda/envs/pyaa/lib/python3.12/site-packages/scanpy/preprocessing/_pca.py:397\u001b[0m, in \u001b[0;36m_pca_with_sparse\u001b[0;34m(X, npcs, solver, mu, random_state)\u001b[0m\n\u001b[1;32m    395\u001b[0m np\u001b[38;5;241m.\u001b[39mrandom\u001b[38;5;241m.\u001b[39mset_state(random_state\u001b[38;5;241m.\u001b[39mget_state())\n\u001b[1;32m    396\u001b[0m random_init \u001b[38;5;241m=\u001b[39m np\u001b[38;5;241m.\u001b[39mrandom\u001b[38;5;241m.\u001b[39mrand(np\u001b[38;5;241m.\u001b[39mmin(X\u001b[38;5;241m.\u001b[39mshape))\n\u001b[0;32m--> 397\u001b[0m X \u001b[38;5;241m=\u001b[39m check_array(X, accept_sparse\u001b[38;5;241m=\u001b[39m[\u001b[38;5;124m\"\u001b[39m\u001b[38;5;124mcsr\u001b[39m\u001b[38;5;124m\"\u001b[39m, \u001b[38;5;124m\"\u001b[39m\u001b[38;5;124mcsc\u001b[39m\u001b[38;5;124m\"\u001b[39m])\n\u001b[1;32m    399\u001b[0m \u001b[38;5;28;01mif\u001b[39;00m mu \u001b[38;5;129;01mis\u001b[39;00m \u001b[38;5;28;01mNone\u001b[39;00m:\n\u001b[1;32m    400\u001b[0m     mu \u001b[38;5;241m=\u001b[39m X\u001b[38;5;241m.\u001b[39mmean(\u001b[38;5;241m0\u001b[39m)\u001b[38;5;241m.\u001b[39mA\u001b[38;5;241m.\u001b[39mflatten()[\u001b[38;5;28;01mNone\u001b[39;00m, :]\n",
      "File \u001b[0;32m~/.conda/envs/pyaa/lib/python3.12/site-packages/sklearn/utils/validation.py:1072\u001b[0m, in \u001b[0;36mcheck_array\u001b[0;34m(array, accept_sparse, accept_large_sparse, dtype, order, copy, force_all_finite, ensure_2d, allow_nd, ensure_min_samples, ensure_min_features, estimator, input_name)\u001b[0m\n\u001b[1;32m   1070\u001b[0m     n_samples \u001b[38;5;241m=\u001b[39m _num_samples(array)\n\u001b[1;32m   1071\u001b[0m     \u001b[38;5;28;01mif\u001b[39;00m n_samples \u001b[38;5;241m<\u001b[39m ensure_min_samples:\n\u001b[0;32m-> 1072\u001b[0m         \u001b[38;5;28;01mraise\u001b[39;00m \u001b[38;5;167;01mValueError\u001b[39;00m(\n\u001b[1;32m   1073\u001b[0m             \u001b[38;5;124m\"\u001b[39m\u001b[38;5;124mFound array with \u001b[39m\u001b[38;5;132;01m%d\u001b[39;00m\u001b[38;5;124m sample(s) (shape=\u001b[39m\u001b[38;5;132;01m%s\u001b[39;00m\u001b[38;5;124m) while a\u001b[39m\u001b[38;5;124m\"\u001b[39m\n\u001b[1;32m   1074\u001b[0m             \u001b[38;5;124m\"\u001b[39m\u001b[38;5;124m minimum of \u001b[39m\u001b[38;5;132;01m%d\u001b[39;00m\u001b[38;5;124m is required\u001b[39m\u001b[38;5;132;01m%s\u001b[39;00m\u001b[38;5;124m.\u001b[39m\u001b[38;5;124m\"\u001b[39m\n\u001b[1;32m   1075\u001b[0m             \u001b[38;5;241m%\u001b[39m (n_samples, array\u001b[38;5;241m.\u001b[39mshape, ensure_min_samples, context)\n\u001b[1;32m   1076\u001b[0m         )\n\u001b[1;32m   1078\u001b[0m \u001b[38;5;28;01mif\u001b[39;00m ensure_min_features \u001b[38;5;241m>\u001b[39m \u001b[38;5;241m0\u001b[39m \u001b[38;5;129;01mand\u001b[39;00m array\u001b[38;5;241m.\u001b[39mndim \u001b[38;5;241m==\u001b[39m \u001b[38;5;241m2\u001b[39m:\n\u001b[1;32m   1079\u001b[0m     n_features \u001b[38;5;241m=\u001b[39m array\u001b[38;5;241m.\u001b[39mshape[\u001b[38;5;241m1\u001b[39m]\n",
      "\u001b[0;31mValueError\u001b[0m: Found array with 0 sample(s) (shape=(0, 0)) while a minimum of 1 is required."
     ]
    }
   ],
   "source": [
    "se = csr_matrix(mmread( inputfile))\n",
    "se = se[se.getnnz(1) > 0][:, se.getnnz(0) > 0]\n",
    "\n",
    "if TEST:\n",
    "    tgenes = min(TEST_genes, se.shape[1])\n",
    "    tsamples = min(TEST_samples, se.shape[0])\n",
    "    se.resize((tsamples, tgenes))\n",
    "    se = se[se.getnnz(1)>0][:,se.getnnz(0)>0]\n",
    "\n",
    "adata = sc.AnnData(se)\n",
    "#sc.pp.normalize_total(adata, target_sum=1e6)\n",
    "##sc.pp.log1p(adata)\n",
    "sc.pp.scale(adata, zero_center=False)\n",
    "sc.pp.highly_variable_genes(adata)\n",
    "\n",
    "if HVF:\n",
    "    adata = adata[:, adata.var.highly_variable]\n",
    "    adata = adata[adata.X.getnnz(1)>0][:, adata.X.getnnz(0)>0]\n",
    "print(adata)\n",
    "sc.pp.pca(adata)\n",
    "sc.pp.neighbors(adata)\n",
    "sc.tl.umap(adata)"
   ]
  },
  {
   "cell_type": "markdown",
   "metadata": {},
   "source": [
    " # Visualize data"
   ]
  },
  {
   "cell_type": "code",
   "execution_count": null,
   "metadata": {},
   "outputs": [],
   "source": [
    "# PCA plot\n",
    "imgname = os.path.join(outputfolder, \"PCA.png\")\n",
    "print(f\"Saving Image --- {imgname}\")\n",
    "sc.pl.pca(adata, save=imgname.split('/')[-1])"
   ]
  },
  {
   "cell_type": "code",
   "execution_count": null,
   "metadata": {},
   "outputs": [],
   "source": [
    "# UMAP plot\n",
    "imgname = os.path.join(outputfolder, \"UMAP.png\")\n",
    "print(f\"Saving Image --- {imgname}\")\n",
    "sc.pl.umap(adata, save=imgname.split('/')[-1])"
   ]
  },
  {
   "cell_type": "code",
   "execution_count": null,
   "metadata": {},
   "outputs": [],
   "source": [
    "# Elbow plot\n",
    "imgname = os.path.join(outputfolder, \"elbow.pdf\")\n",
    "print(f\"Saving Image --- {imgname}\")\n",
    "sc.pl.pca_variance_ratio(adata, log=True, save=imgname.split('/')[-1])"
   ]
  },
  {
   "cell_type": "code",
   "execution_count": null,
   "metadata": {},
   "outputs": [],
   "source": [
    "## Archetypes\n",
    "#import archetypes as arch\n",
    "#from time import time\n",
    "#\n",
    "#aa_kwargs = {\n",
    "#    \"n_archetypes\": 4,\n",
    "#    \"n_init\": 5,\n",
    "#    \"max_iter\": 10000,\n",
    "#    \"verbose\": True,\n",
    "#    \"tol\": 1e-3,\n",
    "#}\n",
    "#\n",
    "#mod0 = arch.AA(**aa_kwargs, algorithm_init=\"random\")\n",
    "#\n",
    "#t0=time()\n",
    "#mod0.fit_transform(adata.X.toarray())\n",
    "#t1=time()\n",
    "#\n",
    "#print(f\"mod0: {t1-t0:.2f} seconds|RSS: {mod0.rss:.2f}\")"
   ]
  }
 ],
 "metadata": {
  "kernelspec": {
   "display_name": "pyaa",
   "language": "python",
   "name": "python3"
  },
  "language_info": {
   "codemirror_mode": {
    "name": "ipython",
    "version": 3
   },
   "file_extension": ".py",
   "mimetype": "text/x-python",
   "name": "python",
   "nbconvert_exporter": "python",
   "pygments_lexer": "ipython3",
   "version": "3.12.3"
  }
 },
 "nbformat": 4,
 "nbformat_minor": 2
}
