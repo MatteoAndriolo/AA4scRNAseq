{
 "cells": [
  {
   "cell_type": "code",
   "execution_count": 3,
   "metadata": {},
   "outputs": [],
   "source": [
    "import os\n",
    "import scanpy as sc\n",
    "from scipy.io import mmread\n",
    "from scipy.sparse import csr_matrix\n",
    "\n",
    "inputfile = \"../data/AllonKleinLab/Experiment2/stateFate_inVivo_normed_counts.mtx\"\n",
    "outputfolder = \"../out/AllonKleinLab/Experiment2\"\n",
    "\n",
    "HVF = True\n",
    "TEST = False\n",
    "\n",
    "TEST_genes = 300\n",
    "TEST_samples = 500\n",
    "\n",
    "k = 15"
   ]
  },
  {
   "cell_type": "markdown",
   "metadata": {},
   "source": [
    " # Load Dataset"
   ]
  },
  {
   "cell_type": "code",
   "execution_count": 4,
   "metadata": {},
   "outputs": [
    {
     "ename": "",
     "evalue": "",
     "output_type": "error",
     "traceback": [
      "\u001b[1;31mThe Kernel crashed while executing code in the current cell or a previous cell. \n",
      "\u001b[1;31mPlease review the code in the cell(s) to identify a possible cause of the failure. \n",
      "\u001b[1;31mClick <a href='https://aka.ms/vscodeJupyterKernelCrash'>here</a> for more info. \n",
      "\u001b[1;31mView Jupyter <a href='command:jupyter.viewOutput'>log</a> for further details."
     ]
    }
   ],
   "source": [
    "se = csr_matrix(mmread(inputfile))\n",
    "se = se[se.getnnz(1) > 0][:, se.getnnz(0) > 0]\n",
    "\n",
    "if TEST:\n",
    "    tsamples = min(TEST_samples, se.shape[0])\n",
    "    tgenes = min(TEST_genes, se.shape[1])\n",
    "    se.resize((tsamples, tgenes))\n",
    "    se = se[se.getnnz(1) > 0][:, se.getnnz(0) > 0]\n",
    "\n",
    "adata = sc.AnnData(se)\n",
    "sc.pp.normalize_total(adata, target_sum=1e6) #TODO check this\n",
    "sc.pp.log1p(adata)\n",
    "sc.pp.scale(adata, zero_center=False)\n",
    "sc.pp.highly_variable_genes(adata, flavor=\"seurat\")\n",
    "if HVF:\n",
    "    adata = adata[:, adata.var.highly_variable]\n",
    "    adata = adata[adata.X.getnnz(1) > 0][:, adata.X.getnnz(0) > 0]\n",
    "    print(adata)\n",
    "\n",
    "sc.pp.pca(adata)\n",
    "sc.pp.neighbors(adata)\n",
    "sc.tl.umap(adata)"
   ]
  },
  {
   "cell_type": "markdown",
   "metadata": {},
   "source": [
    " # Visualize data"
   ]
  },
  {
   "cell_type": "code",
   "execution_count": null,
   "metadata": {},
   "outputs": [],
   "source": [
    "# PCA plot\n",
    "imgname = os.path.join(outputfolder, \"PCA.png\")\n",
    "print(f\"Saving Image --- {imgname}\")\n",
    "sc.pl.pca(adata, save=imgname.split(\"/\")[-1])"
   ]
  },
  {
   "cell_type": "code",
   "execution_count": null,
   "metadata": {},
   "outputs": [],
   "source": [
    "# UMAP plot\n",
    "imgname = os.path.join(outputfolder, \"UMAP.png\")\n",
    "print(f\"Saving Image --- {imgname}\")\n",
    "sc.pl.umap(adata, save=imgname.split(\"/\")[-1])"
   ]
  },
  {
   "cell_type": "code",
   "execution_count": null,
   "metadata": {},
   "outputs": [],
   "source": [
    "# Elbow plot\n",
    "imgname = os.path.join(outputfolder, \"elbow.pdf\")\n",
    "print(f\"Saving Image --- {imgname}\")\n",
    "sc.pl.pca_variance_ratio(adata, log=True, save=imgname.split(\"/\")[-1])"
   ]
  },
  {
   "cell_type": "code",
   "execution_count": null,
   "metadata": {},
   "outputs": [],
   "source": [
    "## Archetypes\n",
    "# import archetypes as arch\n",
    "# from time import time\n",
    "#\n",
    "# aa_kwargs = {\n",
    "#    \"n_archetypes\": 4,\n",
    "#    \"n_init\": 5,\n",
    "#    \"max_iter\": 10000,\n",
    "#    \"verbose\": True,\n",
    "#    \"tol\": 1e-3,\n",
    "# }\n",
    "#\n",
    "# mod0 = arch.AA(**aa_kwargs, algorithm_init=\"furthest_sum\")\n",
    "#\n",
    "# t0=time()\n",
    "# mod0.fit_transform(adata.X.toarray())\n",
    "# t1=time()\n",
    "#\n",
    "# print(f\"mod0: {t1-t0:.2f} seconds|RSS: {mod0.rss:.2f}\")"
   ]
  }
 ],
 "metadata": {
  "kernelspec": {
   "display_name": "pyaa",
   "language": "python",
   "name": "python3"
  },
  "language_info": {
   "codemirror_mode": {
    "name": "ipython",
    "version": 3
   },
   "file_extension": ".py",
   "mimetype": "text/x-python",
   "name": "python",
   "nbconvert_exporter": "python",
   "pygments_lexer": "ipython3",
   "version": "3.12.3"
  }
 },
 "nbformat": 4,
 "nbformat_minor": 2
}
